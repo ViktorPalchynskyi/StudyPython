{
 "cells": [
  {
   "cell_type": "code",
   "execution_count": 1,
   "metadata": {},
   "outputs": [],
   "source": [
    "import json"
   ]
  },
  {
   "cell_type": "code",
   "execution_count": 7,
   "metadata": {},
   "outputs": [],
   "source": [
    "class Tournament:\n",
    "    \n",
    "    def __init__(self, title, year):\n",
    "        self.title = title\n",
    "        self.year = year"
   ]
  },
  {
   "cell_type": "code",
   "execution_count": 8,
   "metadata": {},
   "outputs": [
    {
     "name": "stdout",
     "output_type": "stream",
     "text": [
      "{\n",
      "  \"A O\": 2010,\n",
      "  \"FIDE WC\": 2018,\n",
      "  \"FIDE Grand Prix\": 2016\n",
      "}\n",
      "<class 'dict'>\n",
      "{'A O': 2010, 'FIDE WC': 2018, 'FIDE Grand Prix': 2016}\n"
     ]
    }
   ],
   "source": [
    "tournaments = {\n",
    "    'A O':2010, \n",
    "    'FIDE WC':2018, \n",
    "    'FIDE Grand Prix':2016\n",
    "}\n",
    "\n",
    "json_data = json.dumps(tournaments, indent = 2) # serialization\n",
    "print(json_data)\n",
    "\n",
    "loaded = json.loads(json_data) # deserialization\n",
    "print(type(loaded))\n",
    "print(loaded)"
   ]
  },
  {
   "cell_type": "code",
   "execution_count": 9,
   "metadata": {},
   "outputs": [
    {
     "ename": "TypeError",
     "evalue": "Object of type Tournament is not JSON serializable",
     "output_type": "error",
     "traceback": [
      "\u001b[1;31m---------------------------------------------------------------------------\u001b[0m",
      "\u001b[1;31mTypeError\u001b[0m                                 Traceback (most recent call last)",
      "\u001b[1;32m<ipython-input-9-f62543e38d13>\u001b[0m in \u001b[0;36m<module>\u001b[1;34m\u001b[0m\n\u001b[0;32m      1\u001b[0m \u001b[0mt1\u001b[0m \u001b[1;33m=\u001b[0m \u001b[0mTournament\u001b[0m\u001b[1;33m(\u001b[0m\u001b[1;34m'A O'\u001b[0m\u001b[1;33m,\u001b[0m \u001b[1;36m2010\u001b[0m\u001b[1;33m)\u001b[0m\u001b[1;33m\u001b[0m\u001b[1;33m\u001b[0m\u001b[0m\n\u001b[1;32m----> 2\u001b[1;33m \u001b[0mjson_data\u001b[0m \u001b[1;33m=\u001b[0m \u001b[0mjson\u001b[0m\u001b[1;33m.\u001b[0m\u001b[0mdumps\u001b[0m\u001b[1;33m(\u001b[0m\u001b[0mt1\u001b[0m\u001b[1;33m)\u001b[0m\u001b[1;33m\u001b[0m\u001b[1;33m\u001b[0m\u001b[0m\n\u001b[0m",
      "\u001b[1;32m~\\Anaconda3\\lib\\json\\__init__.py\u001b[0m in \u001b[0;36mdumps\u001b[1;34m(obj, skipkeys, ensure_ascii, check_circular, allow_nan, cls, indent, separators, default, sort_keys, **kw)\u001b[0m\n\u001b[0;32m    229\u001b[0m         \u001b[0mcls\u001b[0m \u001b[1;32mis\u001b[0m \u001b[1;32mNone\u001b[0m \u001b[1;32mand\u001b[0m \u001b[0mindent\u001b[0m \u001b[1;32mis\u001b[0m \u001b[1;32mNone\u001b[0m \u001b[1;32mand\u001b[0m \u001b[0mseparators\u001b[0m \u001b[1;32mis\u001b[0m \u001b[1;32mNone\u001b[0m \u001b[1;32mand\u001b[0m\u001b[1;33m\u001b[0m\u001b[1;33m\u001b[0m\u001b[0m\n\u001b[0;32m    230\u001b[0m         default is None and not sort_keys and not kw):\n\u001b[1;32m--> 231\u001b[1;33m         \u001b[1;32mreturn\u001b[0m \u001b[0m_default_encoder\u001b[0m\u001b[1;33m.\u001b[0m\u001b[0mencode\u001b[0m\u001b[1;33m(\u001b[0m\u001b[0mobj\u001b[0m\u001b[1;33m)\u001b[0m\u001b[1;33m\u001b[0m\u001b[1;33m\u001b[0m\u001b[0m\n\u001b[0m\u001b[0;32m    232\u001b[0m     \u001b[1;32mif\u001b[0m \u001b[0mcls\u001b[0m \u001b[1;32mis\u001b[0m \u001b[1;32mNone\u001b[0m\u001b[1;33m:\u001b[0m\u001b[1;33m\u001b[0m\u001b[1;33m\u001b[0m\u001b[0m\n\u001b[0;32m    233\u001b[0m         \u001b[0mcls\u001b[0m \u001b[1;33m=\u001b[0m \u001b[0mJSONEncoder\u001b[0m\u001b[1;33m\u001b[0m\u001b[1;33m\u001b[0m\u001b[0m\n",
      "\u001b[1;32m~\\Anaconda3\\lib\\json\\encoder.py\u001b[0m in \u001b[0;36mencode\u001b[1;34m(self, o)\u001b[0m\n\u001b[0;32m    197\u001b[0m         \u001b[1;31m# exceptions aren't as detailed.  The list call should be roughly\u001b[0m\u001b[1;33m\u001b[0m\u001b[1;33m\u001b[0m\u001b[1;33m\u001b[0m\u001b[0m\n\u001b[0;32m    198\u001b[0m         \u001b[1;31m# equivalent to the PySequence_Fast that ''.join() would do.\u001b[0m\u001b[1;33m\u001b[0m\u001b[1;33m\u001b[0m\u001b[1;33m\u001b[0m\u001b[0m\n\u001b[1;32m--> 199\u001b[1;33m         \u001b[0mchunks\u001b[0m \u001b[1;33m=\u001b[0m \u001b[0mself\u001b[0m\u001b[1;33m.\u001b[0m\u001b[0miterencode\u001b[0m\u001b[1;33m(\u001b[0m\u001b[0mo\u001b[0m\u001b[1;33m,\u001b[0m \u001b[0m_one_shot\u001b[0m\u001b[1;33m=\u001b[0m\u001b[1;32mTrue\u001b[0m\u001b[1;33m)\u001b[0m\u001b[1;33m\u001b[0m\u001b[1;33m\u001b[0m\u001b[0m\n\u001b[0m\u001b[0;32m    200\u001b[0m         \u001b[1;32mif\u001b[0m \u001b[1;32mnot\u001b[0m \u001b[0misinstance\u001b[0m\u001b[1;33m(\u001b[0m\u001b[0mchunks\u001b[0m\u001b[1;33m,\u001b[0m \u001b[1;33m(\u001b[0m\u001b[0mlist\u001b[0m\u001b[1;33m,\u001b[0m \u001b[0mtuple\u001b[0m\u001b[1;33m)\u001b[0m\u001b[1;33m)\u001b[0m\u001b[1;33m:\u001b[0m\u001b[1;33m\u001b[0m\u001b[1;33m\u001b[0m\u001b[0m\n\u001b[0;32m    201\u001b[0m             \u001b[0mchunks\u001b[0m \u001b[1;33m=\u001b[0m \u001b[0mlist\u001b[0m\u001b[1;33m(\u001b[0m\u001b[0mchunks\u001b[0m\u001b[1;33m)\u001b[0m\u001b[1;33m\u001b[0m\u001b[1;33m\u001b[0m\u001b[0m\n",
      "\u001b[1;32m~\\Anaconda3\\lib\\json\\encoder.py\u001b[0m in \u001b[0;36miterencode\u001b[1;34m(self, o, _one_shot)\u001b[0m\n\u001b[0;32m    255\u001b[0m                 \u001b[0mself\u001b[0m\u001b[1;33m.\u001b[0m\u001b[0mkey_separator\u001b[0m\u001b[1;33m,\u001b[0m \u001b[0mself\u001b[0m\u001b[1;33m.\u001b[0m\u001b[0mitem_separator\u001b[0m\u001b[1;33m,\u001b[0m \u001b[0mself\u001b[0m\u001b[1;33m.\u001b[0m\u001b[0msort_keys\u001b[0m\u001b[1;33m,\u001b[0m\u001b[1;33m\u001b[0m\u001b[1;33m\u001b[0m\u001b[0m\n\u001b[0;32m    256\u001b[0m                 self.skipkeys, _one_shot)\n\u001b[1;32m--> 257\u001b[1;33m         \u001b[1;32mreturn\u001b[0m \u001b[0m_iterencode\u001b[0m\u001b[1;33m(\u001b[0m\u001b[0mo\u001b[0m\u001b[1;33m,\u001b[0m \u001b[1;36m0\u001b[0m\u001b[1;33m)\u001b[0m\u001b[1;33m\u001b[0m\u001b[1;33m\u001b[0m\u001b[0m\n\u001b[0m\u001b[0;32m    258\u001b[0m \u001b[1;33m\u001b[0m\u001b[0m\n\u001b[0;32m    259\u001b[0m def _make_iterencode(markers, _default, _encoder, _indent, _floatstr,\n",
      "\u001b[1;32m~\\Anaconda3\\lib\\json\\encoder.py\u001b[0m in \u001b[0;36mdefault\u001b[1;34m(self, o)\u001b[0m\n\u001b[0;32m    177\u001b[0m \u001b[1;33m\u001b[0m\u001b[0m\n\u001b[0;32m    178\u001b[0m         \"\"\"\n\u001b[1;32m--> 179\u001b[1;33m         raise TypeError(f'Object of type {o.__class__.__name__} '\n\u001b[0m\u001b[0;32m    180\u001b[0m                         f'is not JSON serializable')\n\u001b[0;32m    181\u001b[0m \u001b[1;33m\u001b[0m\u001b[0m\n",
      "\u001b[1;31mTypeError\u001b[0m: Object of type Tournament is not JSON serializable"
     ]
    }
   ],
   "source": [
    "t1 = Tournament('A O', 2010)\n",
    "json_data = json.dumps(t1)"
   ]
  },
  {
   "cell_type": "code",
   "execution_count": 12,
   "metadata": {},
   "outputs": [
    {
     "name": "stdout",
     "output_type": "stream",
     "text": [
      "{\"title\": \"A O\", \"year\": 2010}\n",
      "title = A O, year = 2010\n"
     ]
    }
   ],
   "source": [
    "json_data = json.dumps(t1.__dict__)\n",
    "print(json_data)\n",
    "t = Tournament(**json.loads(json_data))\n",
    "print(f'title = {t.title}, year = {t.year}')"
   ]
  },
  {
   "cell_type": "code",
   "execution_count": 13,
   "metadata": {},
   "outputs": [],
   "source": [
    "class ChessPlayer:\n",
    "    \n",
    "    def __init__(self, tournaments):\n",
    "        self.tournaments = tournaments"
   ]
  },
  {
   "cell_type": "code",
   "execution_count": 16,
   "metadata": {},
   "outputs": [
    {
     "name": "stdout",
     "output_type": "stream",
     "text": [
      "{\"tournaments\": [{\"title\": \"A O\", \"year\": 2010}, {\"title\": \"FIDE WC\", \"year\": 2018}, {\"title\": \"FIDE Grand Prix\", \"year\": 2016}]}\n"
     ]
    }
   ],
   "source": [
    "t1 = Tournament('A O', 2010)\n",
    "t2 = Tournament('FIDE WC', 2018)\n",
    "t3 = Tournament('FIDE Grand Prix', 2016)\n",
    "\n",
    "p1 = ChessPlayer([t1, t2, t3])\n",
    "\n",
    "json_data = json.dumps(p1, default = lambda obj: obj.__dict__)\n",
    "print(json_data)"
   ]
  },
  {
   "cell_type": "code",
   "execution_count": 17,
   "metadata": {},
   "outputs": [
    {
     "name": "stdout",
     "output_type": "stream",
     "text": [
      "<__main__.ChessPlayer object at 0x0000018FFD204348>\n"
     ]
    }
   ],
   "source": [
    "decoded = ChessPlayer(**json.loads(json_data))\n",
    "print(decoded)"
   ]
  },
  {
   "cell_type": "code",
   "execution_count": 19,
   "metadata": {},
   "outputs": [
    {
     "name": "stdout",
     "output_type": "stream",
     "text": [
      "<class 'dict'>\n",
      "{'title': 'A O', 'year': 2010}\n"
     ]
    }
   ],
   "source": [
    "player_tour = decoded.tournaments[0]\n",
    "print(type(player_tour))\n",
    "\n",
    "print(player_tour)"
   ]
  },
  {
   "cell_type": "code",
   "execution_count": 24,
   "metadata": {},
   "outputs": [
    {
     "name": "stdout",
     "output_type": "stream",
     "text": [
      "<class 'str'>\n",
      "{\n",
      "    \"tournaments\": [\n",
      "        {\n",
      "            \"title\": \"A O\",\n",
      "            \"year\": 2010\n",
      "        },\n",
      "        {\n",
      "            \"title\": \"FIDE WC\",\n",
      "            \"year\": 2018\n",
      "        },\n",
      "        {\n",
      "            \"title\": \"FIDE Grand Prix\",\n",
      "            \"year\": 2016\n",
      "        }\n",
      "    ]\n",
      "}\n",
      "<__main__.ChessPlayer object at 0x0000018F82BFDDC8>\n",
      "[<__main__.Tournament object at 0x0000018F82BFDB48>, <__main__.Tournament object at 0x0000018F82BFDE88>, <__main__.Tournament object at 0x0000018F82BFDF08>]\n"
     ]
    }
   ],
   "source": [
    "class Tournament:\n",
    "    \n",
    "    def __init__(self, title, year):\n",
    "        self.title = title\n",
    "        self.year = year\n",
    "        \n",
    "    @classmethod\n",
    "    def from_json(cls, json_data):\n",
    "        return cls(**json_data)\n",
    "        \n",
    "\n",
    "class ChessPlayer:\n",
    "    \n",
    "    def __init__(self, tournaments):\n",
    "        self.tournaments = tournaments\n",
    "        \n",
    "    @classmethod\n",
    "    def from_json(cls, json_data):\n",
    "        tournaments = list(map(Tournament.from_json, json_data[\"tournaments\"]))\n",
    "        return cls(tournaments)\n",
    "    \n",
    "t1 = Tournament('A O', 2010)\n",
    "t2 = Tournament('FIDE WC', 2018)\n",
    "t3 = Tournament('FIDE Grand Prix', 2016)\n",
    "\n",
    "p1 = ChessPlayer([t1, t2, t3])\n",
    "\n",
    "\n",
    "json_data = json.dumps(p1, default = lambda obj: obj.__dict__, indent = 4, sort_keys= True)\n",
    "print(type(json_data))\n",
    "print(json_data)\n",
    "\n",
    "decoded = ChessPlayer.from_json(json.loads(json_data))\n",
    "print(decoded)\n",
    "print(decoded.tournaments)"
   ]
  },
  {
   "cell_type": "code",
   "execution_count": 26,
   "metadata": {},
   "outputs": [
    {
     "name": "stdout",
     "output_type": "stream",
     "text": [
      "{'tournaments': [{'title': 'A O', 'year': 2010}, {'title': 'FIDE WC', 'year': 2018}, {'title': 'FIDE Grand Prix', 'year': 2016}]}\n"
     ]
    }
   ],
   "source": [
    "with open('player.json', 'w') as file:\n",
    "    json.dump(p1, file , default=lambda obj: obj.__dict__)\n",
    "    \n",
    "with open('player.json', 'r') as read_file:\n",
    "    data = json.load(read_file)\n",
    "    \n",
    "print(data)"
   ]
  },
  {
   "cell_type": "code",
   "execution_count": 28,
   "metadata": {},
   "outputs": [
    {
     "name": "stdout",
     "output_type": "stream",
     "text": [
      "<__main__.ChessPlayer object at 0x0000018F80FE6648>\n",
      "[<__main__.Tournament object at 0x0000018F82D9B3C8>, <__main__.Tournament object at 0x0000018F82D9BFC8>, <__main__.Tournament object at 0x0000018F82D9B088>]\n"
     ]
    }
   ],
   "source": [
    "decoded = ChessPlayer.from_json(data)\n",
    "print(decoded)\n",
    "print(decoded.tournaments)"
   ]
  },
  {
   "cell_type": "code",
   "execution_count": null,
   "metadata": {},
   "outputs": [],
   "source": []
  }
 ],
 "metadata": {
  "kernelspec": {
   "display_name": "Python 3",
   "language": "python",
   "name": "python3"
  },
  "language_info": {
   "codemirror_mode": {
    "name": "ipython",
    "version": 3
   },
   "file_extension": ".py",
   "mimetype": "text/x-python",
   "name": "python",
   "nbconvert_exporter": "python",
   "pygments_lexer": "ipython3",
   "version": "3.7.4"
  }
 },
 "nbformat": 4,
 "nbformat_minor": 2
}
