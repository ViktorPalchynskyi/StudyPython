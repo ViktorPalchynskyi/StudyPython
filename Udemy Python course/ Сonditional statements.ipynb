{
 "cells": [
  {
   "cell_type": "code",
   "execution_count": 1,
   "metadata": {},
   "outputs": [
    {
     "name": "stdout",
     "output_type": "stream",
     "text": [
      "Indeed, true.\n"
     ]
    }
   ],
   "source": [
    "if True:\n",
    "    print('Indeed, true.')"
   ]
  },
  {
   "cell_type": "code",
   "execution_count": 2,
   "metadata": {},
   "outputs": [
    {
     "name": "stdout",
     "output_type": "stream",
     "text": [
      "3 is greater than 2\n"
     ]
    }
   ],
   "source": [
    "if 3 > 2:\n",
    "    print('3 is greater than 2')"
   ]
  },
  {
   "cell_type": "code",
   "execution_count": 3,
   "metadata": {},
   "outputs": [],
   "source": [
    "if 3 < 2:\n",
    "    print('3 is less than 2')"
   ]
  },
  {
   "cell_type": "code",
   "execution_count": 4,
   "metadata": {},
   "outputs": [
    {
     "name": "stdout",
     "output_type": "stream",
     "text": [
      "It is admin\n"
     ]
    }
   ],
   "source": [
    "is_admin = True\n",
    "if is_admin: \n",
    "    print('It is admin')"
   ]
  },
  {
   "cell_type": "code",
   "execution_count": 7,
   "metadata": {},
   "outputs": [
    {
     "name": "stdout",
     "output_type": "stream",
     "text": [
      "Lul\n",
      "Hmm... it seems we have a new race.\n"
     ]
    }
   ],
   "source": [
    "sc = input()\n",
    "\n",
    "if sc == 'Protos':\n",
    "    print('Protos is the most poowerful race')\n",
    "elif sc == 'Zerg':\n",
    "    print('Zerg is the most weak race but it spreads like a plague')\n",
    "elif sc == 'Terrain':\n",
    "    print('Terrain is a race balanced between Zerg and Protos')\n",
    "else:\n",
    "    print('Hmm... it seems we have a new race.')"
   ]
  },
  {
   "cell_type": "code",
   "execution_count": null,
   "metadata": {},
   "outputs": [],
   "source": []
  }
 ],
 "metadata": {
  "kernelspec": {
   "display_name": "Python 3",
   "language": "python",
   "name": "python3"
  },
  "language_info": {
   "codemirror_mode": {
    "name": "ipython",
    "version": 3
   },
   "file_extension": ".py",
   "mimetype": "text/x-python",
   "name": "python",
   "nbconvert_exporter": "python",
   "pygments_lexer": "ipython3",
   "version": "3.7.4"
  }
 },
 "nbformat": 4,
 "nbformat_minor": 2
}
