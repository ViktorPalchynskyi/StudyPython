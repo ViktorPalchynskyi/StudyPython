{
 "cells": [
  {
   "cell_type": "code",
   "execution_count": 8,
   "metadata": {},
   "outputs": [],
   "source": [
    " def divide(a,b):\n",
    "        try:\n",
    "            return a / b\n",
    "        except ZeroDivisionError as ex:\n",
    "            print(f'an error occured: {ex}')\n",
    "        except: \n",
    "            print('unknown error occured')"
   ]
  },
  {
   "cell_type": "code",
   "execution_count": 9,
   "metadata": {},
   "outputs": [
    {
     "data": {
      "text/plain": [
       "2.0"
      ]
     },
     "execution_count": 9,
     "metadata": {},
     "output_type": "execute_result"
    }
   ],
   "source": [
    "divide(4,2)"
   ]
  },
  {
   "cell_type": "code",
   "execution_count": 10,
   "metadata": {},
   "outputs": [
    {
     "name": "stdout",
     "output_type": "stream",
     "text": [
      "an error occured: division by zero\n"
     ]
    }
   ],
   "source": [
    "divide(4,0)"
   ]
  },
  {
   "cell_type": "code",
   "execution_count": 11,
   "metadata": {},
   "outputs": [
    {
     "name": "stdout",
     "output_type": "stream",
     "text": [
      "adsf\n",
      "unknown error occured\n"
     ]
    }
   ],
   "source": [
    "divider = input()\n",
    "divide(4, divider)"
   ]
  },
  {
   "cell_type": "code",
   "execution_count": 16,
   "metadata": {},
   "outputs": [
    {
     "name": "stdout",
     "output_type": "stream",
     "text": [
      "Error has occured. Description: No such file or directory\n",
      "Finally\n",
      "Doing some work here.\n"
     ]
    }
   ],
   "source": [
    "file = None\n",
    "try:\n",
    "    file = open(r'C:\\tmp\\abrac.txt')\n",
    "    data = file.read()\n",
    "except FileNotFoundError as ex:\n",
    "    print(f'Error has occured. Description: {ex.strerror}')\n",
    "else:\n",
    "    print('maybe else')\n",
    "finally:\n",
    "    print('Finally')\n",
    "    if file:\n",
    "        file.close()\n",
    "print('Doing some work here.')\n"
   ]
  },
  {
   "cell_type": "code",
   "execution_count": 17,
   "metadata": {},
   "outputs": [],
   "source": [
    "def get_int():\n",
    "    while True:\n",
    "        try: \n",
    "            reply = int(input('Enter a number...'))\n",
    "            return reply\n",
    "        except:\n",
    "            print('Not a nuber! Try again.')\n",
    "            continue"
   ]
  },
  {
   "cell_type": "markdown",
   "metadata": {},
   "source": []
  },
  {
   "cell_type": "code",
   "execution_count": 18,
   "metadata": {},
   "outputs": [
    {
     "name": "stdout",
     "output_type": "stream",
     "text": [
      "Enter a number...askdjf\n",
      "Not a nuber! Try again.\n",
      "Enter a number...alkfj\n",
      "Not a nuber! Try again.\n",
      "Enter a number...10\n"
     ]
    }
   ],
   "source": [
    "number = get_int()"
   ]
  },
  {
   "cell_type": "code",
   "execution_count": null,
   "metadata": {},
   "outputs": [],
   "source": []
  }
 ],
 "metadata": {
  "kernelspec": {
   "display_name": "Python 3",
   "language": "python",
   "name": "python3"
  }
 },
 "nbformat": 4,
 "nbformat_minor": 2
}
