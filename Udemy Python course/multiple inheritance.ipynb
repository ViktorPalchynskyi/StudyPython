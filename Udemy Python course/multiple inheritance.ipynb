{
 "cells": [
  {
   "cell_type": "code",
   "execution_count": 2,
   "metadata": {},
   "outputs": [],
   "source": [
    "class Animal:\n",
    "    def die(self):\n",
    "        print('bye-bye')\n",
    "        self.health = 0\n",
    "\n",
    "        \n",
    "class Carnivour:\n",
    "    def hunt(self):\n",
    "        print('eating')\n",
    "        self.satiely = 100\n",
    "        \n",
    "        \n",
    "class Dog(Animal, Carnivour):\n",
    "    def bark(self):\n",
    "        print('woof-woof')"
   ]
  },
  {
   "cell_type": "code",
   "execution_count": 3,
   "metadata": {},
   "outputs": [
    {
     "name": "stdout",
     "output_type": "stream",
     "text": [
      "eating\n",
      "woof-woof\n",
      "bye-bye\n"
     ]
    }
   ],
   "source": [
    "dog = Dog()\n",
    "dog.hunt()\n",
    "dog.bark()\n",
    "dog.die()"
   ]
  },
  {
   "cell_type": "code",
   "execution_count": 4,
   "metadata": {},
   "outputs": [],
   "source": [
    "class Animal:\n",
    "    def set_health(self, health):\n",
    "        print('set in animal')\n",
    "        \n",
    "class Carnivour(Animal):\n",
    "    def set_health(self, health):\n",
    "        print('set in carnivour')\n",
    "        \n",
    "class Mammal(Animal):\n",
    "    def set_health(self, health):\n",
    "        print('set in mammal')\n",
    "        \n",
    "        \n",
    "class Dog(Mammal, Carnivour):\n",
    "    pass"
   ]
  },
  {
   "cell_type": "code",
   "execution_count": 5,
   "metadata": {},
   "outputs": [
    {
     "name": "stdout",
     "output_type": "stream",
     "text": [
      "set in mammal\n"
     ]
    }
   ],
   "source": [
    "dog = Dog()\n",
    "dog.set_health(10)\n"
   ]
  },
  {
   "cell_type": "code",
   "execution_count": 9,
   "metadata": {},
   "outputs": [],
   "source": [
    "class Animal:\n",
    "    def set_health(self, health):\n",
    "        print('set in animal')\n",
    "        \n",
    "class Carnivour(Animal):\n",
    "    def set_health(self, health):\n",
    "        print('set in carnivour')\n",
    "        \n",
    "class Mammal(Animal):\n",
    "    def set_health(self, health):\n",
    "        print('set in mammal')\n",
    "        \n",
    "        \n",
    "class Dog(Mammal, Carnivour):\n",
    "    def set_health(self, health):\n",
    "        Mammal.set_health(self, health)\n",
    "        Carnivour.set_health(self, health)\n",
    "        Animal.set_health(self, health)\n",
    "        \n",
    "        print('set in dog')"
   ]
  },
  {
   "cell_type": "code",
   "execution_count": 10,
   "metadata": {},
   "outputs": [
    {
     "name": "stdout",
     "output_type": "stream",
     "text": [
      "set in mammal\n",
      "set in carnivour\n",
      "set in animal\n",
      "set in dog\n"
     ]
    }
   ],
   "source": [
    "dog = Dog()\n",
    "dog.set_health(10)"
   ]
  },
  {
   "cell_type": "code",
   "execution_count": 13,
   "metadata": {},
   "outputs": [],
   "source": [
    "class Animal:\n",
    "    def set_health(self, health):\n",
    "        print('set in animal')\n",
    "        \n",
    "class Carnivour(Animal):\n",
    "    def set_health(self, health):\n",
    "        super().set_health(health)\n",
    "        print('set in carnivour')\n",
    "        \n",
    "class Mammal(Animal):\n",
    "    def set_health(self, health):\n",
    "        super().set_health(health)\n",
    "        print('set in mammal')\n",
    "        \n",
    "        \n",
    "class Dog(Mammal, Carnivour):\n",
    "    def set_health(self, health):\n",
    "        super().set_health(health)\n",
    "#         Mammal.set_health(self, health)\n",
    "#         Carnivour.set_health(self, health)\n",
    "        \n",
    "        \n",
    "        print('set in dog')"
   ]
  },
  {
   "cell_type": "code",
   "execution_count": 14,
   "metadata": {},
   "outputs": [
    {
     "name": "stdout",
     "output_type": "stream",
     "text": [
      "set in animal\n",
      "set in carnivour\n",
      "set in mammal\n",
      "set in dog\n"
     ]
    }
   ],
   "source": [
    "dog = Dog()\n",
    "dog.set_health(10)"
   ]
  },
  {
   "cell_type": "code",
   "execution_count": 18,
   "metadata": {},
   "outputs": [],
   "source": [
    "class Animal:\n",
    "    \n",
    "    def __init__(self):\n",
    "        self.health = 100\n",
    "        \n",
    "    def hit(self, damage):\n",
    "        self.health -=damage\n",
    "        \n",
    "\n",
    "class Carnivour(Animal):\n",
    "    def __init__(self):\n",
    "        super().__init__()\n",
    "        self.legs = 4"
   ]
  },
  {
   "cell_type": "code",
   "execution_count": 19,
   "metadata": {},
   "outputs": [
    {
     "name": "stdout",
     "output_type": "stream",
     "text": [
      "90\n"
     ]
    }
   ],
   "source": [
    "c = Carnivour()\n",
    "c.hit(10)\n",
    "\n",
    "print(c.health)"
   ]
  },
  {
   "cell_type": "code",
   "execution_count": null,
   "metadata": {},
   "outputs": [],
   "source": []
  }
 ],
 "metadata": {
  "kernelspec": {
   "display_name": "Python 3",
   "language": "python",
   "name": "python3"
  },
  "language_info": {
   "codemirror_mode": {
    "name": "ipython",
    "version": 3
   },
   "file_extension": ".py",
   "mimetype": "text/x-python",
   "name": "python",
   "nbconvert_exporter": "python",
   "pygments_lexer": "ipython3",
   "version": "3.7.4"
  }
 },
 "nbformat": 4,
 "nbformat_minor": 2
}
